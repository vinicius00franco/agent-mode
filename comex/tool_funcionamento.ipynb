{
 "cells": [
  {
   "cell_type": "code",
   "execution_count": 1,
   "id": "9cb02e0f",
   "metadata": {},
   "outputs": [],
   "source": [
    "import pandas as pd\n",
    "import requests\n",
    "import gc\n",
    "\n",
    "# Variável global para armazenar o DataFrame\n",
    "df_comex = None"
   ]
  },
  {
   "cell_type": "code",
   "execution_count": 2,
   "id": "7dbdaed2",
   "metadata": {},
   "outputs": [],
   "source": [
    "def obter_dados_comex(ano: str, mes: str, tipo_operacao: str) -> str:\n",
    "    \"\"\"\n",
    "    Baixa e carrega os dados de comércio exterior (EXP ou IMP) para um\n",
    "    determinado ano e mês.\n",
    "\n",
    "    Args:\n",
    "        ano (str): O ano dos dados, por exemplo, '2024'.\n",
    "        mes (str): O mês dos dados, por exemplo, 'janeiro'.\n",
    "        tipo_operacao (str): 'EXP' ou 'IMP'.\n",
    "\n",
    "    Returns:\n",
    "        str: Uma mensagem de sucesso ou erro.\n",
    "    \"\"\"\n",
    "    global df_comex\n",
    "    print(\"\\n================ INÍCIO obter_dados_comex ================\")\n",
    "    print(f\"Parâmetros recebidos: ano={ano}, mes={mes}, tipo_operacao={tipo_operacao}\")\n",
    "    tipo_operacao = tipo_operacao.upper()\n",
    "    meses = {\n",
    "        \"janeiro\": 1,\n",
    "        \"fevereiro\": 2,\n",
    "        \"março\": 3,\n",
    "        \"abril\": 4,\n",
    "        \"maio\": 5,\n",
    "        \"junho\": 6,\n",
    "        \"julho\": 7,\n",
    "        \"agosto\": 8,\n",
    "        \"setembro\": 9,\n",
    "        \"outubro\": 10,\n",
    "        \"novembro\": 11,\n",
    "        \"dezembro\": 12,\n",
    "    }\n",
    "    mes_num = meses.get(mes.lower())\n",
    "\n",
    "    if not mes_num:\n",
    "        print(\"[ERRO] Mês inválido!\")\n",
    "        print(\"================ FIM obter_dados_comex ================\\n\")\n",
    "        return \"Mês inválido. Por favor, use o nome completo do mês em português.\"\n",
    "    if tipo_operacao not in [\"EXP\", \"IMP\"]:\n",
    "        print(\"[ERRO] Tipo de operação inválido!\")\n",
    "        print(\"================ FIM obter_dados_comex ================\\n\")\n",
    "        return \"Tipo de operação inválido. Use 'EXP' ou 'IMP'.\"\n",
    "\n",
    "    url = f\"https://balanca.economia.gov.br/balanca/bd/comexstat-bd/mun/{tipo_operacao}_{ano}_MUN.csv\"\n",
    "    try:\n",
    "        print(f\"[DOWNLOAD] Baixando dados anuais de {tipo_operacao} para {ano}...\")\n",
    "        df_anual = pd.read_csv(url, sep=\";\", encoding=\"iso-8859-1\", on_bad_lines=\"skip\")\n",
    "\n",
    "        print(\n",
    "            f\"[OK] Dados anuais de {tipo_operacao} carregados. Total de linhas: {len(df_anual)}\"\n",
    "        )\n",
    "        df_comex = df_anual[df_anual[\"CO_MES\"] == mes_num].copy()\n",
    "        if df_comex.empty:\n",
    "            print(f\"[AVISO] Nenhum dado encontrado para o mês de {mes}/{ano}!\")\n",
    "            print(\"================ FIM obter_dados_comex ================\\n\")\n",
    "            return f\"Nenhum dado de {tipo_operacao} encontrado para o mês de {mes}/{ano}. Verifique se a combinação de mês e ano possui dados.\"\n",
    "        print(\n",
    "            f\"[OK] Dados filtrados para o mês de {mes}/{ano}. Total de linhas: {len(df_comex)}\"\n",
    "        )\n",
    "        print(\"================ FIM obter_dados_comex ================\\n\")\n",
    "        return f\"Dados de {tipo_operacao} para {mes}/{ano} carregados com sucesso. Agora você pode fazer perguntas sobre eles.\"\n",
    "    except requests.exceptions.HTTPError as e:\n",
    "        print(f\"[ERRO HTTP] {e}\")\n",
    "        if e.response is not None and e.response.status_code == 404:\n",
    "            print(\"================ FIM obter_dados_comex ================\\n\")\n",
    "            return f\"Erro: O arquivo de dados para {tipo_operacao} em {ano} não foi encontrado. A URL tentada foi: {url}. Por favor, verifique se os dados para este período estão disponíveis.\"\n",
    "        print(\"================ FIM obter_dados_comex ================\\n\")\n",
    "        return f\"Erro HTTP ao baixar os dados: {e}. URL tentada: {url}\"\n",
    "    except Exception as e:\n",
    "        print(f\"[ERRO EXCEÇÃO] {e}\")\n",
    "        print(\"================ FIM obter_dados_comex ================\\n\")\n",
    "        return f\"Ocorreu um erro ao processar os dados: {e}\""
   ]
  },
  {
   "cell_type": "code",
   "execution_count": 3,
   "id": "036aa072",
   "metadata": {},
   "outputs": [
    {
     "name": "stdout",
     "output_type": "stream",
     "text": [
      "Download e leitura do arquivo CSV da URL bem-sucedidos!\n",
      "Número de linhas carregadas: 1121352\n",
      "Mostrando as primeiras 5 linhas:\n",
      "   CO_ANO  CO_MES   SH4  CO_PAIS SG_UF_MUN   CO_MUN  KG_LIQUIDO  VL_FOB\n",
      "0    2023      10  2209      127        BA  2919553          36      53\n",
      "1    2023      11  4009      493        SP  3456701         473   14008\n",
      "2    2023      11  8536      365        SP  3438709           2     181\n",
      "3    2023       8  8512       63        RJ  3304201       15627  239105\n",
      "4    2023       6  1902      580        PR  4118204         287     368\n"
     ]
    }
   ],
   "source": [
    "import pandas as pd\n",
    "import requests\n",
    "import io\n",
    "\n",
    "# Defina as variáveis que você usaria na função\n",
    "ano = '2023'\n",
    "tipo_operacao = 'EXP'\n",
    "\n",
    "# Crie a URL\n",
    "url = f\"https://balanca.economia.gov.br/balanca/bd/comexstat-bd/mun/{tipo_operacao}_{ano}_MUN.csv\"\n",
    "\n",
    "# Faça a requisição GET para a URL\n",
    "try:\n",
    "    response = requests.get(url)\n",
    "    response.raise_for_status()  # Levanta um erro se a requisição não for bem-sucedida\n",
    "\n",
    "    # Use io.StringIO para ler o conteúdo da resposta como um arquivo em memória\n",
    "    csv_content = io.StringIO(response.text)\n",
    "\n",
    "    # Tente ler o CSV com pandas, usando os mesmos parâmetros do seu código\n",
    "    df_teste = pd.read_csv(csv_content, sep=';', encoding='iso-8859-1', on_bad_lines='skip', engine='python')\n",
    "    \n",
    "    print(\"Download e leitura do arquivo CSV da URL bem-sucedidos!\")\n",
    "    print(f\"Número de linhas carregadas: {len(df_teste)}\")\n",
    "    print(\"Mostrando as primeiras 5 linhas:\")\n",
    "    print(df_teste.head())\n",
    "\n",
    "except requests.exceptions.HTTPError as e:\n",
    "    print(f\"Erro HTTP: {e}\")\n",
    "    print(\"A URL pode estar incorreta ou o arquivo não está disponível.\")\n",
    "except Exception as e:\n",
    "    print(f\"Ocorreu um erro ao processar os dados: {e}\")\n",
    "    print(\"A URL está correta, mas a formatação do arquivo CSV está causando problemas na leitura.\")"
   ]
  },
  {
   "cell_type": "code",
   "execution_count": 4,
   "id": "e8975d08",
   "metadata": {},
   "outputs": [],
   "source": [
    "def resumo_dados_comex(consulta: str) -> str:\n",
    "    \"\"\"\n",
    "    Executa uma consulta específica nos dados de comércio exterior carregados.\n",
    "\n",
    "    Args:\n",
    "        consulta (str): Uma pergunta em linguagem natural sobre os dados.\n",
    "\n",
    "    Returns:\n",
    "        str: A resposta à consulta ou uma mensagem de erro.\n",
    "    \"\"\"\n",
    "    print(\"\\n================ INÍCIO resumo_dados_comex ================\")\n",
    "    global df_comex\n",
    "    if df_comex is None:\n",
    "        print(\"[ERRO] Nenhum dado carregado!\")\n",
    "        print(\"================ FIM resumo_dados_comex ================\\n\")\n",
    "        return \"Nenhum dado de comércio exterior foi carregado. Por favor, use a ferramenta 'obter_dados_comex' primeiro.\"\n",
    "    consulta_lower = consulta.lower()\n",
    "    print(f\"Consulta recebida: {consulta}\")\n",
    "    if \"média do peso líquido\" in consulta_lower:\n",
    "        if \"KG_LIQUIDO\" in df_comex.columns:\n",
    "            media = df_comex[\"KG_LIQUIDO\"].mean()\n",
    "            print(f\"[OK] Média do peso líquido: {media:.2f} kg\")\n",
    "            print(\"================ FIM resumo_dados_comex ================\\n\")\n",
    "            return f\"A média do peso líquido dos dados carregados é de {media:.2f} kg.\"\n",
    "        else:\n",
    "            print(\"[ERRO] Coluna 'KG_LIQUIDO' não encontrada!\")\n",
    "            print(\"================ FIM resumo_dados_comex ================\\n\")\n",
    "            return \"A coluna 'KG_LIQUIDO' não foi encontrada nos dados.\"\n",
    "    elif \"principais estados\" in consulta_lower:\n",
    "        if \"SG_UF_NCM\" in df_comex.columns:\n",
    "            top_estados = df_comex[\"SG_UF_NCM\"].value_counts().head(5)\n",
    "            print(f\"[OK] Top 5 estados:\\n{top_estados}\")\n",
    "            print(\"================ FIM resumo_dados_comex ================\\n\")\n",
    "            return f\"Os 5 principais estados por número de operações são:\\n{top_estados.to_string()}\"\n",
    "        else:\n",
    "            print(\"[ERRO] Coluna 'SG_UF_NCM' não encontrada!\")\n",
    "            print(\"================ FIM resumo_dados_comex ================\\n\")\n",
    "            return \"A coluna 'SG_UF_NCM' não foi encontrada nos dados.\"\n",
    "    else:\n",
    "        print(\"[ERRO] Consulta não reconhecida!\")\n",
    "        print(\"================ FIM resumo_dados_comex ================\\n\")\n",
    "        return \"Não foi possível processar a sua consulta. Tente perguntas sobre 'média do peso líquido' ou 'principais estados'.\""
   ]
  },
  {
   "cell_type": "code",
   "execution_count": 5,
   "id": "04246cf7",
   "metadata": {},
   "outputs": [],
   "source": [
    "def limpar_dados_comex() -> str:\n",
    "    \"\"\"\n",
    "    Libera os dados de comércio exterior da memória para economizar recursos computacionais.\n",
    "    \"\"\"\n",
    "    print(\"\\n================ INÍCIO limpar_dados_comex ================\")\n",
    "    global df_comex\n",
    "    if df_comex is None:\n",
    "        print(\"[AVISO] Não há dados para limpar!\")\n",
    "        print(\"================ FIM limpar_dados_comex ================\\n\")\n",
    "        return \"Não há dados para limpar na memória.\"\n",
    "    df_comex = None\n",
    "    gc.collect()\n",
    "    print(\"[OK] Dados de comércio exterior foram limpos da memória.\")\n",
    "    print(\"================ FIM limpar_dados_comex ================\\n\")\n",
    "    return \"Os dados foram removidos da memória com sucesso.\""
   ]
  },
  {
   "cell_type": "code",
   "execution_count": 9,
   "id": "669b53f4",
   "metadata": {},
   "outputs": [
    {
     "name": "stdout",
     "output_type": "stream",
     "text": [
      "\n",
      "================ INÍCIO obter_dados_comex ================\n",
      "Parâmetros recebidos: ano=2023, mes=janeiro, tipo_operacao=EXP\n",
      "[DOWNLOAD] Baixando dados anuais de EXP para 2023...\n",
      "[OK] Dados anuais de EXP carregados. Total de linhas: 1121352\n",
      "[OK] Dados filtrados para o mês de janeiro/2023. Total de linhas: 84625\n",
      "================ FIM obter_dados_comex ================\n",
      "\n"
     ]
    },
    {
     "data": {
      "text/plain": [
       "'Dados de EXP para janeiro/2023 carregados com sucesso. Agora você pode fazer perguntas sobre eles.'"
      ]
     },
     "execution_count": 9,
     "metadata": {},
     "output_type": "execute_result"
    }
   ],
   "source": [
    "obter_dados_comex(ano='2023', mes='janeiro', tipo_operacao='EXP')"
   ]
  },
  {
   "cell_type": "code",
   "execution_count": 10,
   "id": "1f06ed2b",
   "metadata": {},
   "outputs": [
    {
     "name": "stdout",
     "output_type": "stream",
     "text": [
      "\n",
      "================ INÍCIO resumo_dados_comex ================\n",
      "Consulta recebida: Qual a média do peso líquido?\n",
      "[OK] Média do peso líquido: 618844.48 kg\n",
      "================ FIM resumo_dados_comex ================\n",
      "\n"
     ]
    },
    {
     "data": {
      "text/plain": [
       "'A média do peso líquido dos dados carregados é de 618844.48 kg.'"
      ]
     },
     "execution_count": 10,
     "metadata": {},
     "output_type": "execute_result"
    }
   ],
   "source": [
    "resumo_dados_comex(consulta='Qual a média do peso líquido?')"
   ]
  },
  {
   "cell_type": "code",
   "execution_count": 11,
   "id": "ff64a8fb",
   "metadata": {},
   "outputs": [
    {
     "name": "stdout",
     "output_type": "stream",
     "text": [
      "\n",
      "================ INÍCIO limpar_dados_comex ================\n",
      "[OK] Dados de comércio exterior foram limpos da memória.\n",
      "================ FIM limpar_dados_comex ================\n",
      "\n"
     ]
    },
    {
     "data": {
      "text/plain": [
       "'Os dados foram removidos da memória com sucesso.'"
      ]
     },
     "execution_count": 11,
     "metadata": {},
     "output_type": "execute_result"
    }
   ],
   "source": [
    "limpar_dados_comex()"
   ]
  },
  {
   "cell_type": "code",
   "execution_count": null,
   "id": "b6f12558",
   "metadata": {},
   "outputs": [],
   "source": []
  },
  {
   "cell_type": "code",
   "execution_count": null,
   "id": "21f96f8f",
   "metadata": {},
   "outputs": [],
   "source": []
  },
  {
   "cell_type": "code",
   "execution_count": null,
   "id": "9bd5769f",
   "metadata": {},
   "outputs": [],
   "source": []
  }
 ],
 "metadata": {
  "kernelspec": {
   "display_name": "agent-venv (3.12.3)",
   "language": "python",
   "name": "python3"
  },
  "language_info": {
   "codemirror_mode": {
    "name": "ipython",
    "version": 3
   },
   "file_extension": ".py",
   "mimetype": "text/x-python",
   "name": "python",
   "nbconvert_exporter": "python",
   "pygments_lexer": "ipython3",
   "version": "3.12.3"
  }
 },
 "nbformat": 4,
 "nbformat_minor": 5
}
